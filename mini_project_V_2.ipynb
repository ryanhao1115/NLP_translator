{
  "nbformat": 4,
  "nbformat_minor": 0,
  "metadata": {
    "kernelspec": {
      "display_name": "Python 3",
      "language": "python",
      "name": "python3"
    },
    "language_info": {
      "codemirror_mode": {
        "name": "ipython",
        "version": 3
      },
      "file_extension": ".py",
      "mimetype": "text/x-python",
      "name": "python",
      "nbconvert_exporter": "python",
      "pygments_lexer": "ipython3",
      "version": "3.8.5"
    },
    "colab": {
      "name": "mini_project_V_2.ipynb",
      "provenance": []
    }
  },
  "cells": [
    {
      "cell_type": "markdown",
      "metadata": {
        "id": "JVA9ljvhveMf"
      },
      "source": [
        "## Language Translator"
      ]
    },
    {
      "cell_type": "code",
      "metadata": {
        "id": "eR6HDOzHveMh"
      },
      "source": [
        "import nltk\n",
        "import string\n",
        "import re\n",
        "from numpy import array, argmax, random, take\n",
        "import pandas as pd\n",
        "from tensorflow.keras.models import Sequential\n",
        "from tensorflow.keras.layers import Dense, LSTM, Embedding, RepeatVector\n",
        "from tensorflow.keras.preprocessing.text import Tokenizer\n",
        "from tensorflow.keras.callbacks import ModelCheckpoint\n",
        "from tensorflow.keras.preprocessing.sequence import pad_sequences\n",
        "from tensorflow.keras.models import load_model\n",
        "from tensorflow.keras import optimizers\n",
        "import matplotlib.pyplot as plt\n",
        "%matplotlib inline\n",
        "pd.set_option('display.max_colwidth', 200)"
      ],
      "execution_count": 37,
      "outputs": []
    },
    {
      "cell_type": "code",
      "metadata": {
        "id": "PS9DOnAiveMi"
      },
      "source": [
        "from tensorflow.keras.utils import to_categorical\n",
        "import joblib\n",
        "import numpy as np\n",
        "from nltk.corpus import comtrans"
      ],
      "execution_count": 39,
      "outputs": []
    },
    {
      "cell_type": "markdown",
      "metadata": {
        "id": "dYxuKZ-8veMi"
      },
      "source": [
        "From `nltk` we can download translated sentences between different languages. You can see the example between **English and French** below but feel free to try different combination as well."
      ]
    },
    {
      "cell_type": "code",
      "metadata": {
        "id": "IeP-D9KOveMi",
        "outputId": "babbe89a-d539-4cc4-8c54-b2f729154f06"
      },
      "source": [
        "nltk.download('comtrans')"
      ],
      "execution_count": null,
      "outputs": [
        {
          "name": "stderr",
          "output_type": "stream",
          "text": [
            "[nltk_data] Downloading package comtrans to\n",
            "[nltk_data]     /home/ryanvan611/nltk_data...\n"
          ]
        },
        {
          "data": {
            "text/plain": [
              "True"
            ]
          },
          "execution_count": 2,
          "metadata": {},
          "output_type": "execute_result"
        }
      ]
    },
    {
      "cell_type": "code",
      "metadata": {
        "id": "H4ykXVigveMj",
        "outputId": "f8f332af-5bea-4ab4-9512-9880ba3dc30f"
      },
      "source": [
        "\n",
        "print(comtrans.aligned_sents('alignment-en-fr.txt')[0])"
      ],
      "execution_count": null,
      "outputs": [
        {
          "name": "stdout",
          "output_type": "stream",
          "text": [
            "<AlignedSent: 'Resumption of the se...' -> 'Reprise de la sessio...'>\n"
          ]
        }
      ]
    },
    {
      "cell_type": "code",
      "metadata": {
        "id": "ySz-ix6xveMk",
        "outputId": "340140d7-78ba-46b2-b06f-cd06dbf25b96"
      },
      "source": [
        "len(comtrans.aligned_sents('alignment-en-fr.txt'))"
      ],
      "execution_count": null,
      "outputs": [
        {
          "data": {
            "text/plain": [
              "33334"
            ]
          },
          "execution_count": 4,
          "metadata": {},
          "output_type": "execute_result"
        }
      ]
    },
    {
      "cell_type": "code",
      "metadata": {
        "id": "JE-lf6OhveMk"
      },
      "source": [
        "eng_text = []\n",
        "frn_text = []\n",
        "eng_max = 0\n",
        "frn_max = 0\n",
        "for i in range(33334):\n",
        "    als = comtrans.aligned_sents(\"alignment-en-fr.txt\")[i]\n",
        "    if len(als.words) > eng_max:\n",
        "        eng_max = len(als.words) \n",
        "    if len(als.mots) > frn_max:\n",
        "        frn_max = len(als.mots) \n",
        "    eng_text.append(\" \".join(als.words))\n",
        "    frn_text.append(\" \".join(als.mots))\n",
        "print(len(eng_text), 'and', eng_max)\n",
        "print(len(frn_text), 'and', eng_max)"
      ],
      "execution_count": null,
      "outputs": []
    },
    {
      "cell_type": "code",
      "metadata": {
        "id": "FCMgD2j9veMk",
        "outputId": "74563f34-c239-4129-a717-ba31d55957b8"
      },
      "source": [
        "joblib.dump(eng_text, 'eng_text.joblib')\n",
        "joblib.dump(frn_text, 'frn_text.joblib')"
      ],
      "execution_count": null,
      "outputs": [
        {
          "data": {
            "text/plain": [
              "['frn_text.joblib']"
            ]
          },
          "execution_count": 80,
          "metadata": {},
          "output_type": "execute_result"
        }
      ]
    },
    {
      "cell_type": "code",
      "metadata": {
        "id": "-il-7vu6veMl"
      },
      "source": [
        "frn_text = joblib.load('frn_text.joblib')\n",
        "eng_text = joblib.load('eng_text.joblib')"
      ],
      "execution_count": 4,
      "outputs": []
    },
    {
      "cell_type": "code",
      "metadata": {
        "colab": {
          "base_uri": "https://localhost:8080/"
        },
        "id": "vSePj3_VveMl",
        "outputId": "9afbc62f-b4c0-483e-8076-4e3e76099ec4"
      },
      "source": [
        "len(eng_text)"
      ],
      "execution_count": 4,
      "outputs": [
        {
          "output_type": "execute_result",
          "data": {
            "text/plain": [
              "31500"
            ]
          },
          "metadata": {},
          "execution_count": 4
        }
      ]
    },
    {
      "cell_type": "code",
      "metadata": {
        "id": "_gF33cVmveMm"
      },
      "source": [
        "# function to build a tokenizer\n",
        "def tokenization(lines):\n",
        "      tokenizer = Tokenizer()\n",
        "      tokenizer.fit_on_texts(lines)\n",
        "      return tokenizer"
      ],
      "execution_count": 5,
      "outputs": []
    },
    {
      "cell_type": "code",
      "metadata": {
        "id": "FtaZctNyveMm"
      },
      "source": [
        "length = max([len(sentence) for sentence in frn_text])"
      ],
      "execution_count": null,
      "outputs": []
    },
    {
      "cell_type": "code",
      "metadata": {
        "id": "2YAKjyFqveMm",
        "outputId": "80991f0d-5b7f-4f29-8614-996f4b549e44"
      },
      "source": [
        "length"
      ],
      "execution_count": null,
      "outputs": [
        {
          "data": {
            "text/plain": [
              "282"
            ]
          },
          "execution_count": 100,
          "metadata": {},
          "output_type": "execute_result"
        }
      ]
    },
    {
      "cell_type": "code",
      "metadata": {
        "colab": {
          "base_uri": "https://localhost:8080/"
        },
        "id": "6ypHyr_VveMn",
        "outputId": "6f657656-d5a7-48d1-eb8b-af1c525ff06a"
      },
      "source": [
        "# prepare english tokenizer\n",
        "eng_tokenizer = tokenization(eng_text)\n",
        "eng_vocab_size = len(eng_tokenizer.word_index) + 1\n",
        "\n",
        "eng_length = 40\n",
        "print('English Vocabulary Size: %d' % eng_vocab_size)"
      ],
      "execution_count": 6,
      "outputs": [
        {
          "output_type": "stream",
          "name": "stdout",
          "text": [
            "English Vocabulary Size: 15553\n"
          ]
        }
      ]
    },
    {
      "cell_type": "code",
      "metadata": {
        "colab": {
          "base_uri": "https://localhost:8080/"
        },
        "id": "fcjqkBg6veMn",
        "outputId": "64ed9765-7cbc-4f91-970e-cedffcb1ca49"
      },
      "source": [
        "# prepare french tokenizer\n",
        "frn_tokenizer = tokenization(frn_text)\n",
        "frn_vocab_size = len(frn_tokenizer.word_index) + 1\n",
        "\n",
        "frn_length = 40\n",
        "print('French Vocabulary Size: %d' % frn_vocab_size)"
      ],
      "execution_count": 7,
      "outputs": [
        {
          "output_type": "stream",
          "name": "stdout",
          "text": [
            "French Vocabulary Size: 21326\n"
          ]
        }
      ]
    },
    {
      "cell_type": "code",
      "metadata": {
        "id": "FtmIOYvWveMo"
      },
      "source": [
        "# encode and pad sequences\n",
        "def encode_sequences(tokenizer, length, lines):\n",
        "         # integer encode sequences\n",
        "         seq = tokenizer.texts_to_sequences(lines)\n",
        "         # pad sequences with 0 values\n",
        "         seq = pad_sequences(seq, maxlen=length, padding='post')\n",
        "         return seq"
      ],
      "execution_count": 8,
      "outputs": []
    },
    {
      "cell_type": "code",
      "metadata": {
        "id": "Sm4qFjxRveMo"
      },
      "source": [
        "from sklearn.model_selection import train_test_split"
      ],
      "execution_count": 9,
      "outputs": []
    },
    {
      "cell_type": "code",
      "metadata": {
        "id": "u0G-EmlKveMp"
      },
      "source": [
        "# split data into train and test set\n",
        "X_train, X_test, y_train, y_test = train_test_split( frn_text, eng_text, test_size=0.2, random_state=12)"
      ],
      "execution_count": 10,
      "outputs": []
    },
    {
      "cell_type": "code",
      "metadata": {
        "colab": {
          "base_uri": "https://localhost:8080/"
        },
        "id": "nDFZMOX00Dxu",
        "outputId": "38bf593b-dce0-4f4c-8a42-06d58286d494"
      },
      "source": [
        "len(X_train)"
      ],
      "execution_count": 12,
      "outputs": [
        {
          "output_type": "execute_result",
          "data": {
            "text/plain": [
              "25200"
            ]
          },
          "metadata": {},
          "execution_count": 12
        }
      ]
    },
    {
      "cell_type": "code",
      "metadata": {
        "id": "C0mzzU9VveMp"
      },
      "source": [
        "# prepare training data\n",
        "trainX = encode_sequences(frn_tokenizer,frn_length, X_train)\n",
        "trainY = encode_sequences(eng_tokenizer, eng_length, y_train)\n",
        "\n",
        "# prepare validation data\n",
        "testX = encode_sequences(frn_tokenizer, frn_length, X_test)\n",
        "testY = encode_sequences(eng_tokenizer, eng_length, y_test)"
      ],
      "execution_count": 13,
      "outputs": []
    },
    {
      "cell_type": "code",
      "metadata": {
        "colab": {
          "base_uri": "https://localhost:8080/"
        },
        "id": "lexYgzTR0Puu",
        "outputId": "3285b120-436c-47af-d9de-8c91c7ad7c3d"
      },
      "source": [
        "testX.shape"
      ],
      "execution_count": 24,
      "outputs": [
        {
          "output_type": "execute_result",
          "data": {
            "text/plain": [
              "(6300, 40)"
            ]
          },
          "metadata": {},
          "execution_count": 24
        }
      ]
    },
    {
      "cell_type": "code",
      "metadata": {
        "id": "eb9JzebAEtoY"
      },
      "source": [
        "valid_X = testX[:5]"
      ],
      "execution_count": 25,
      "outputs": []
    },
    {
      "cell_type": "code",
      "metadata": {
        "id": "O7Zz3o7mveMq"
      },
      "source": [
        "# build NMT model\n",
        "def define_model(in_vocab,out_vocab, in_timesteps,out_timesteps,units):\n",
        "      model = Sequential()\n",
        "      model.add(Embedding(in_vocab, units, input_length=in_timesteps, mask_zero=True))\n",
        "      model.add(LSTM(units))\n",
        "      model.add(RepeatVector(out_timesteps))\n",
        "      model.add(LSTM(units, return_sequences=True))\n",
        "      model.add(Dense(out_vocab, activation='softmax'))\n",
        "      return model"
      ],
      "execution_count": 15,
      "outputs": []
    },
    {
      "cell_type": "code",
      "metadata": {
        "id": "QJvNvLaoveMq"
      },
      "source": [
        "# model compilation\n",
        "model = define_model(frn_vocab_size, eng_vocab_size, frn_length, eng_length, 512)"
      ],
      "execution_count": 16,
      "outputs": []
    },
    {
      "cell_type": "code",
      "metadata": {
        "id": "15NBfERhveMr"
      },
      "source": [
        "rms = optimizers.RMSprop(learning_rate=0.001)\n",
        "model.compile(optimizer=rms, loss='sparse_categorical_crossentropy')"
      ],
      "execution_count": 18,
      "outputs": []
    },
    {
      "cell_type": "code",
      "metadata": {
        "colab": {
          "base_uri": "https://localhost:8080/"
        },
        "id": "CnyXmiKKveMr",
        "outputId": "ec7891c8-385d-42f9-e566-8e39c348aae9"
      },
      "source": [
        "filename = 'model.h1.24_jan_19'\n",
        "checkpoint = ModelCheckpoint(filename, monitor='val_loss', verbose=1, save_best_only=True, mode='min')\n",
        "\n",
        "# train model\n",
        "history = model.fit(trainX, trainY.reshape(trainY.shape[0], trainY.shape[1], 1),\n",
        "                    epochs=30, batch_size=1000, validation_split = 0.2,callbacks=[checkpoint], \n",
        "                    verbose=1)"
      ],
      "execution_count": 68,
      "outputs": [
        {
          "output_type": "stream",
          "name": "stdout",
          "text": [
            "Epoch 1/30\n",
            "21/21 [==============================] - 98s 2s/step - loss: 2.8547 - val_loss: 3.1283\n",
            "\n",
            "Epoch 00001: val_loss improved from inf to 3.12826, saving model to model.h1.24_jan_19\n"
          ]
        },
        {
          "output_type": "stream",
          "name": "stderr",
          "text": [
            "WARNING:absl:Found untraced functions such as lstm_cell_2_layer_call_and_return_conditional_losses, lstm_cell_2_layer_call_fn, lstm_cell_3_layer_call_and_return_conditional_losses, lstm_cell_3_layer_call_fn, lstm_cell_2_layer_call_fn while saving (showing 5 of 10). These functions will not be directly callable after loading.\n"
          ]
        },
        {
          "output_type": "stream",
          "name": "stdout",
          "text": [
            "INFO:tensorflow:Assets written to: model.h1.24_jan_19/assets\n"
          ]
        },
        {
          "output_type": "stream",
          "name": "stderr",
          "text": [
            "INFO:tensorflow:Assets written to: model.h1.24_jan_19/assets\n"
          ]
        },
        {
          "output_type": "stream",
          "name": "stdout",
          "text": [
            "Epoch 2/30\n",
            "21/21 [==============================] - 50s 2s/step - loss: 2.7834 - val_loss: 3.1298\n",
            "\n",
            "Epoch 00002: val_loss did not improve from 3.12826\n",
            "Epoch 3/30\n",
            "21/21 [==============================] - 46s 2s/step - loss: 2.7657 - val_loss: 3.1807\n",
            "\n",
            "Epoch 00003: val_loss did not improve from 3.12826\n",
            "Epoch 4/30\n",
            "21/21 [==============================] - 52s 2s/step - loss: 2.7586 - val_loss: 3.1605\n",
            "\n",
            "Epoch 00004: val_loss did not improve from 3.12826\n",
            "Epoch 5/30\n",
            "21/21 [==============================] - 51s 2s/step - loss: 2.7474 - val_loss: 3.1288\n",
            "\n",
            "Epoch 00005: val_loss did not improve from 3.12826\n",
            "Epoch 6/30\n",
            "21/21 [==============================] - 48s 2s/step - loss: 2.7342 - val_loss: 3.1540\n",
            "\n",
            "Epoch 00006: val_loss did not improve from 3.12826\n",
            "Epoch 7/30\n",
            "21/21 [==============================] - 50s 2s/step - loss: 2.7237 - val_loss: 3.1653\n",
            "\n",
            "Epoch 00007: val_loss did not improve from 3.12826\n",
            "Epoch 8/30\n",
            "21/21 [==============================] - 47s 2s/step - loss: 2.7052 - val_loss: 3.1503\n",
            "\n",
            "Epoch 00008: val_loss did not improve from 3.12826\n",
            "Epoch 9/30\n",
            "21/21 [==============================] - 53s 3s/step - loss: 2.6968 - val_loss: 3.1415\n",
            "\n",
            "Epoch 00009: val_loss did not improve from 3.12826\n",
            "Epoch 10/30\n",
            "21/21 [==============================] - 49s 2s/step - loss: 2.6860 - val_loss: 3.1599\n",
            "\n",
            "Epoch 00010: val_loss did not improve from 3.12826\n",
            "Epoch 11/30\n",
            "21/21 [==============================] - 52s 2s/step - loss: 2.6757 - val_loss: 3.1436\n",
            "\n",
            "Epoch 00011: val_loss did not improve from 3.12826\n",
            "Epoch 12/30\n",
            "21/21 [==============================] - 47s 2s/step - loss: 2.6534 - val_loss: 3.1800\n",
            "\n",
            "Epoch 00012: val_loss did not improve from 3.12826\n",
            "Epoch 13/30\n",
            "21/21 [==============================] - 48s 2s/step - loss: 2.6611 - val_loss: 3.1454\n",
            "\n",
            "Epoch 00013: val_loss did not improve from 3.12826\n",
            "Epoch 14/30\n",
            "21/21 [==============================] - 49s 2s/step - loss: 2.6367 - val_loss: 3.1823\n",
            "\n",
            "Epoch 00014: val_loss did not improve from 3.12826\n",
            "Epoch 15/30\n",
            "21/21 [==============================] - 50s 2s/step - loss: 2.6278 - val_loss: 3.1574\n",
            "\n",
            "Epoch 00015: val_loss did not improve from 3.12826\n",
            "Epoch 16/30\n",
            "21/21 [==============================] - 46s 2s/step - loss: 2.6182 - val_loss: 3.1909\n",
            "\n",
            "Epoch 00016: val_loss did not improve from 3.12826\n",
            "Epoch 17/30\n",
            "21/21 [==============================] - 50s 2s/step - loss: 2.6086 - val_loss: 3.1680\n",
            "\n",
            "Epoch 00017: val_loss did not improve from 3.12826\n",
            "Epoch 18/30\n",
            "21/21 [==============================] - 49s 2s/step - loss: 2.5972 - val_loss: 3.1736\n",
            "\n",
            "Epoch 00018: val_loss did not improve from 3.12826\n",
            "Epoch 19/30\n",
            "21/21 [==============================] - 48s 2s/step - loss: 2.5817 - val_loss: 3.2488\n",
            "\n",
            "Epoch 00019: val_loss did not improve from 3.12826\n",
            "Epoch 20/30\n",
            "21/21 [==============================] - 47s 2s/step - loss: 2.5748 - val_loss: 3.1834\n",
            "\n",
            "Epoch 00020: val_loss did not improve from 3.12826\n",
            "Epoch 21/30\n",
            "21/21 [==============================] - 49s 2s/step - loss: 2.5637 - val_loss: 3.1723\n",
            "\n",
            "Epoch 00021: val_loss did not improve from 3.12826\n",
            "Epoch 22/30\n",
            "21/21 [==============================] - 52s 3s/step - loss: 2.5466 - val_loss: 3.2353\n",
            "\n",
            "Epoch 00022: val_loss did not improve from 3.12826\n",
            "Epoch 23/30\n",
            "21/21 [==============================] - 52s 3s/step - loss: 2.5376 - val_loss: 3.2308\n",
            "\n",
            "Epoch 00023: val_loss did not improve from 3.12826\n",
            "Epoch 24/30\n",
            "21/21 [==============================] - 49s 2s/step - loss: 2.5357 - val_loss: 3.2009\n",
            "\n",
            "Epoch 00024: val_loss did not improve from 3.12826\n",
            "Epoch 25/30\n",
            "21/21 [==============================] - 47s 2s/step - loss: 2.5181 - val_loss: 3.2025\n",
            "\n",
            "Epoch 00025: val_loss did not improve from 3.12826\n",
            "Epoch 26/30\n",
            "21/21 [==============================] - 47s 2s/step - loss: 2.5008 - val_loss: 3.2600\n",
            "\n",
            "Epoch 00026: val_loss did not improve from 3.12826\n",
            "Epoch 27/30\n",
            "21/21 [==============================] - 48s 2s/step - loss: 2.4943 - val_loss: 3.2058\n",
            "\n",
            "Epoch 00027: val_loss did not improve from 3.12826\n",
            "Epoch 28/30\n",
            "21/21 [==============================] - 50s 2s/step - loss: 2.4883 - val_loss: 3.2218\n",
            "\n",
            "Epoch 00028: val_loss did not improve from 3.12826\n",
            "Epoch 29/30\n",
            "21/21 [==============================] - 47s 2s/step - loss: 2.4686 - val_loss: 3.2533\n",
            "\n",
            "Epoch 00029: val_loss did not improve from 3.12826\n",
            "Epoch 30/30\n",
            "21/21 [==============================] - 49s 2s/step - loss: 2.4637 - val_loss: 3.2425\n",
            "\n",
            "Epoch 00030: val_loss did not improve from 3.12826\n"
          ]
        }
      ]
    },
    {
      "cell_type": "code",
      "metadata": {
        "colab": {
          "base_uri": "https://localhost:8080/",
          "height": 265
        },
        "id": "74eUTlcsveMr",
        "outputId": "902d80ec-2cab-425c-ab47-49789579cde9"
      },
      "source": [
        "plt.plot(history.history['loss'])\n",
        "plt.plot(history.history['val_loss'])\n",
        "plt.legend(['train','validation'])\n",
        "plt.show()"
      ],
      "execution_count": 20,
      "outputs": [
        {
          "output_type": "display_data",
          "data": {
            "image/png": "[encoded data removed]",
            "text/plain": [
              "<Figure size 432x288 with 1 Axes>"
            ]
          },
          "metadata": {
            "needs_background": "light"
          }
        }
      ]
    },
    {
      "cell_type": "code",
      "metadata": {
        "id": "FQzse9fhveMs",
        "outputId": "6849aab4-f3e4-4fe6-db53-ed424f56645f"
      },
      "source": [
        "model.weights[0]"
      ],
      "execution_count": null,
      "outputs": [
        {
          "data": {
            "text/plain": [
              "<tf.Variable 'embedding_1/embeddings:0' shape=(3441, 512) dtype=float32, numpy=\n",
              "array([[-0.03191042,  0.02126977, -0.01851431, ...,  0.02034804,\n",
              "        -0.02166078, -0.00296025],\n",
              "       [ 0.00749052,  0.01633582,  0.00320757, ...,  0.03766687,\n",
              "        -0.01713919,  0.01101888],\n",
              "       [-0.02866866, -0.03106461, -0.01761603, ..., -0.00773163,\n",
              "         0.03964704,  0.01011656],\n",
              "       ...,\n",
              "       [ 0.04316159, -0.00984835, -0.01823862, ..., -0.00216317,\n",
              "         0.04605131,  0.02453344],\n",
              "       [ 0.04976709,  0.02827932,  0.04133967, ..., -0.03708106,\n",
              "         0.00869862,  0.0070174 ],\n",
              "       [-0.04477631, -0.04700129,  0.02558156, ..., -0.04385519,\n",
              "         0.00310589,  0.04713909]], dtype=float32)>"
            ]
          },
          "execution_count": 51,
          "metadata": {},
          "output_type": "execute_result"
        }
      ]
    },
    {
      "cell_type": "code",
      "metadata": {
        "colab": {
          "base_uri": "https://localhost:8080/",
          "height": 165
        },
        "id": "HcJOX96yDgR3",
        "outputId": "2e3a91ad-1e3f-47e3-fd52-3495a5613666"
      },
      "source": [
        "preds = model.predict_classes(testX.reshape((testX.shape[0],testX.shape[1])))"
      ],
      "execution_count": 40,
      "outputs": [
        {
          "output_type": "error",
          "ename": "AttributeError",
          "evalue": "ignored",
          "traceback": [
            "\u001b[0;31m---------------------------------------------------------------------------\u001b[0m",
            "\u001b[0;31mAttributeError\u001b[0m                            Traceback (most recent call last)",
            "\u001b[0;32m<ipython-input-40-6a32a011f637>\u001b[0m in \u001b[0;36m<module>\u001b[0;34m()\u001b[0m\n\u001b[0;32m----> 1\u001b[0;31m \u001b[0mpreds\u001b[0m \u001b[0;34m=\u001b[0m \u001b[0mmodel\u001b[0m\u001b[0;34m.\u001b[0m\u001b[0mpredict_classes\u001b[0m\u001b[0;34m(\u001b[0m\u001b[0mtestX\u001b[0m\u001b[0;34m.\u001b[0m\u001b[0mreshape\u001b[0m\u001b[0;34m(\u001b[0m\u001b[0;34m(\u001b[0m\u001b[0mtestX\u001b[0m\u001b[0;34m.\u001b[0m\u001b[0mshape\u001b[0m\u001b[0;34m[\u001b[0m\u001b[0;36m0\u001b[0m\u001b[0;34m]\u001b[0m\u001b[0;34m,\u001b[0m\u001b[0mtestX\u001b[0m\u001b[0;34m.\u001b[0m\u001b[0mshape\u001b[0m\u001b[0;34m[\u001b[0m\u001b[0;36m1\u001b[0m\u001b[0;34m]\u001b[0m\u001b[0;34m)\u001b[0m\u001b[0;34m)\u001b[0m\u001b[0;34m)\u001b[0m\u001b[0;34m\u001b[0m\u001b[0;34m\u001b[0m\u001b[0m\n\u001b[0m",
            "\u001b[0;31mAttributeError\u001b[0m: 'Sequential' object has no attribute 'predict_classes'"
          ]
        }
      ]
    },
    {
      "cell_type": "code",
      "metadata": {
        "id": "s_C7MgtgKYJF"
      },
      "source": [
        "predictions = (model.predict(valid_X) > 0.5).astype(\"int32\")"
      ],
      "execution_count": 51,
      "outputs": []
    },
    {
      "cell_type": "code",
      "metadata": {
        "colab": {
          "base_uri": "https://localhost:8080/"
        },
        "id": "WZsdbWxTLop4",
        "outputId": "0dc95dc1-01bf-4889-9bf0-85a4b62cbe91"
      },
      "source": [
        "predictions.shape"
      ],
      "execution_count": 52,
      "outputs": [
        {
          "output_type": "execute_result",
          "data": {
            "text/plain": [
              "(5, 40, 15553)"
            ]
          },
          "metadata": {},
          "execution_count": 52
        }
      ]
    },
    {
      "cell_type": "code",
      "metadata": {
        "id": "0QZ6wYGFDnB4"
      },
      "source": [
        "preds = model.predict(valid_X.reshape((valid_X.shape[0],valid_X.shape[1])))"
      ],
      "execution_count": 48,
      "outputs": []
    },
    {
      "cell_type": "code",
      "metadata": {
        "id": "vaikr9ziKAlT"
      },
      "source": [
        "classes_x=np.argmax(preds,axis=-1)"
      ],
      "execution_count": 49,
      "outputs": []
    },
    {
      "cell_type": "code",
      "metadata": {
        "colab": {
          "base_uri": "https://localhost:8080/"
        },
        "id": "eMUYHDV-E3qW",
        "outputId": "7a23aad5-b57b-436c-fbc0-1df0e8fd1971"
      },
      "source": [
        "classes_x.shape"
      ],
      "execution_count": 53,
      "outputs": [
        {
          "output_type": "execute_result",
          "data": {
            "text/plain": [
              "(5, 40)"
            ]
          },
          "metadata": {},
          "execution_count": 53
        }
      ]
    },
    {
      "cell_type": "code",
      "metadata": {
        "colab": {
          "base_uri": "https://localhost:8080/"
        },
        "id": "bz4SR7FpNZdd",
        "outputId": "0357df4f-0f32-4064-efc7-65c43566677e"
      },
      "source": [
        "preds[0,0]"
      ],
      "execution_count": 58,
      "outputs": [
        {
          "output_type": "execute_result",
          "data": {
            "text/plain": [
              "array([5.3313332e-08, 5.2679558e-03, 1.5752482e-04, ..., 3.9524326e-07,\n",
              "       8.4596635e-08, 3.6412661e-07], dtype=float32)"
            ]
          },
          "metadata": {},
          "execution_count": 58
        }
      ]
    },
    {
      "cell_type": "code",
      "metadata": {
        "id": "d2V-wDX2Nty6"
      },
      "source": [
        "max = 0\n",
        "count =0\n",
        "for i in range(len(preds[0,10])):\n",
        "  if preds[0,10][i] > max:\n",
        "    max = preds[0,10][i] \n",
        "    count = i\n"
      ],
      "execution_count": 66,
      "outputs": []
    },
    {
      "cell_type": "code",
      "metadata": {
        "colab": {
          "base_uri": "https://localhost:8080/"
        },
        "id": "Z31lGAMROI43",
        "outputId": "840d1e36-e4c9-4632-d30a-d773a8d08dc8"
      },
      "source": [
        "print(max, count)"
      ],
      "execution_count": 67,
      "outputs": [
        {
          "output_type": "stream",
          "name": "stdout",
          "text": [
            "0.08533305 1\n"
          ]
        }
      ]
    },
    {
      "cell_type": "code",
      "metadata": {
        "colab": {
          "base_uri": "https://localhost:8080/"
        },
        "id": "9ymLUk0VNSGK",
        "outputId": "7f5a9a96-c963-4763-b0d6-fa20d7b51a4e"
      },
      "source": [
        "classes_x[0,10]"
      ],
      "execution_count": 63,
      "outputs": [
        {
          "output_type": "execute_result",
          "data": {
            "text/plain": [
              "1"
            ]
          },
          "metadata": {},
          "execution_count": 63
        }
      ]
    },
    {
      "cell_type": "code",
      "metadata": {
        "colab": {
          "base_uri": "https://localhost:8080/",
          "height": 200
        },
        "id": "YjSTHwIrveMs",
        "outputId": "6eeb93bc-5e4d-4cf2-8457-46a2176e80f6"
      },
      "source": [
        "## load model from history\n",
        "model = load_model('model.h1.24_jan_19')\n",
        "preds = model.predict_classes(testX.reshape((testX.shape[0],testX.shape[1])))"
      ],
      "execution_count": 21,
      "outputs": [
        {
          "output_type": "error",
          "ename": "AttributeError",
          "evalue": "ignored",
          "traceback": [
            "\u001b[0;31m---------------------------------------------------------------------------\u001b[0m",
            "\u001b[0;31mAttributeError\u001b[0m                            Traceback (most recent call last)",
            "\u001b[0;32m<ipython-input-21-0e82a7be8704>\u001b[0m in \u001b[0;36m<module>\u001b[0;34m()\u001b[0m\n\u001b[1;32m      1\u001b[0m \u001b[0;31m## load model from history\u001b[0m\u001b[0;34m\u001b[0m\u001b[0;34m\u001b[0m\u001b[0;34m\u001b[0m\u001b[0m\n\u001b[1;32m      2\u001b[0m \u001b[0mmodel\u001b[0m \u001b[0;34m=\u001b[0m \u001b[0mload_model\u001b[0m\u001b[0;34m(\u001b[0m\u001b[0;34m'model.h1.24_jan_19'\u001b[0m\u001b[0;34m)\u001b[0m\u001b[0;34m\u001b[0m\u001b[0;34m\u001b[0m\u001b[0m\n\u001b[0;32m----> 3\u001b[0;31m \u001b[0mpreds\u001b[0m \u001b[0;34m=\u001b[0m \u001b[0mmodel\u001b[0m\u001b[0;34m.\u001b[0m\u001b[0mpredict_classes\u001b[0m\u001b[0;34m(\u001b[0m\u001b[0mtestX\u001b[0m\u001b[0;34m.\u001b[0m\u001b[0mreshape\u001b[0m\u001b[0;34m(\u001b[0m\u001b[0;34m(\u001b[0m\u001b[0mtestX\u001b[0m\u001b[0;34m.\u001b[0m\u001b[0mshape\u001b[0m\u001b[0;34m[\u001b[0m\u001b[0;36m0\u001b[0m\u001b[0;34m]\u001b[0m\u001b[0;34m,\u001b[0m\u001b[0mtestX\u001b[0m\u001b[0;34m.\u001b[0m\u001b[0mshape\u001b[0m\u001b[0;34m[\u001b[0m\u001b[0;36m1\u001b[0m\u001b[0;34m]\u001b[0m\u001b[0;34m)\u001b[0m\u001b[0;34m)\u001b[0m\u001b[0;34m)\u001b[0m\u001b[0;34m\u001b[0m\u001b[0;34m\u001b[0m\u001b[0m\n\u001b[0m",
            "\u001b[0;31mAttributeError\u001b[0m: 'Sequential' object has no attribute 'predict_classes'"
          ]
        }
      ]
    },
    {
      "cell_type": "code",
      "metadata": {
        "id": "iqCAsrs3veMt"
      },
      "source": [
        "## from ids to words\n",
        "def get_word(n, tokenizer):\n",
        "      for word, index in tokenizer.word_index.items():\n",
        "          if index == n:\n",
        "              return word\n",
        "      return None"
      ],
      "execution_count": 30,
      "outputs": []
    },
    {
      "cell_type": "code",
      "metadata": {
        "id": "phQEtZ-NveMt"
      },
      "source": [
        "preds_text = []\n",
        "for i in classes_x:\n",
        "       temp = []\n",
        "       for j in range(len(i)):\n",
        "            t = get_word(i[j], eng_tokenizer)\n",
        "            if j > 0:\n",
        "                if (t == get_word(i[j-1], eng_tokenizer)) or (t == None):\n",
        "                     temp.append('')\n",
        "                else:\n",
        "                     temp.append(t)\n",
        "            else:\n",
        "                   if(t == None):\n",
        "                          temp.append('')\n",
        "                   else:\n",
        "                          temp.append(t) \n",
        "\n",
        "       preds_text.append(' '.join(temp))"
      ],
      "execution_count": 54,
      "outputs": []
    },
    {
      "cell_type": "code",
      "metadata": {
        "id": "lu1sPQnZveMt"
      },
      "source": [
        "pred_df = pd.DataFrame({'actual' : y_test[:5], 'predicted' : preds_text})"
      ],
      "execution_count": 55,
      "outputs": []
    },
    {
      "cell_type": "code",
      "metadata": {
        "colab": {
          "base_uri": "https://localhost:8080/",
          "height": 241
        },
        "id": "HoNRRV9YveMu",
        "outputId": "c2d3209f-1e79-44ea-bfcd-fc92c91f4538"
      },
      "source": [
        "pred_df"
      ],
      "execution_count": 56,
      "outputs": [
        {
          "output_type": "execute_result",
          "data": {
            "text/html": [
              "<div>\n",
              "<style scoped>\n",
              "    .dataframe tbody tr th:only-of-type {\n",
              "        vertical-align: middle;\n",
              "    }\n",
              "\n",
              "    .dataframe tbody tr th {\n",
              "        vertical-align: top;\n",
              "    }\n",
              "\n",
              "    .dataframe thead th {\n",
              "        text-align: right;\n",
              "    }\n",
              "</style>\n",
              "<table border=\"1\" class=\"dataframe\">\n",
              "  <thead>\n",
              "    <tr style=\"text-align: right;\">\n",
              "      <th></th>\n",
              "      <th>actual</th>\n",
              "      <th>predicted</th>\n",
              "    </tr>\n",
              "  </thead>\n",
              "  <tbody>\n",
              "    <tr>\n",
              "      <th>0</th>\n",
              "      <td>Madam President , we have read in the newspapers that five million euros ' worth of Parliament property has been purloined and that Parliament ' s finances have been poorly managed .</td>\n",
              "      <td>mr president i  to  the</td>\n",
              "    </tr>\n",
              "    <tr>\n",
              "      <th>1</th>\n",
              "      <td>What is important , however , is that they have begun .</td>\n",
              "      <td>we are  to  the</td>\n",
              "    </tr>\n",
              "    <tr>\n",
              "      <th>2</th>\n",
              "      <td>But why do they not buy their own entrance ticket ?</td>\n",
              "      <td>we    to</td>\n",
              "    </tr>\n",
              "    <tr>\n",
              "      <th>3</th>\n",
              "      <td>The fight by feedingstuff manufacturers to gain maximum market shares causes a lot of problems , just as it does in the foodstuffs industry .</td>\n",
              "      <td>the  of the</td>\n",
              "    </tr>\n",
              "    <tr>\n",
              "      <th>4</th>\n",
              "      <td>The very political essence of the reform is mirrored in the objectives of this five-year plan .</td>\n",
              "      <td>this is   to the</td>\n",
              "    </tr>\n",
              "  </tbody>\n",
              "</table>\n",
              "</div>"
            ],
            "text/plain": [
              "                                                                                                                                                                                   actual                                                 predicted\n",
              "0  Madam President , we have read in the newspapers that five million euros ' worth of Parliament property has been purloined and that Parliament ' s finances have been poorly managed .  mr president i  to  the                                 \n",
              "1                                                                                                                                 What is important , however , is that they have begun .         we are  to  the                                  \n",
              "2                                                                                                                                     But why do they not buy their own entrance ticket ?               we    to                                   \n",
              "3                                           The fight by feedingstuff manufacturers to gain maximum market shares causes a lot of problems , just as it does in the foodstuffs industry .           the  of the                                    \n",
              "4                                                                                         The very political essence of the reform is mirrored in the objectives of this five-year plan .        this is   to the                                  "
            ]
          },
          "metadata": {},
          "execution_count": 56
        }
      ]
    }
  ]
}